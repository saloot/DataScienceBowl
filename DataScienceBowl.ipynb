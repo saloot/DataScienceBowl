{
 "cells": [
  {
   "cell_type": "markdown",
   "metadata": {},
   "source": [
    "This notebook corresponds to Kaggle's datascience bowl challenge."
   ]
  },
  {
   "cell_type": "markdown",
   "metadata": {},
   "source": [
    "Import necessary libraries"
   ]
  },
  {
   "cell_type": "code",
   "execution_count": 13,
   "metadata": {},
   "outputs": [],
   "source": [
    "import numpy as np\n",
    "import csv\n",
    "from datetime import datetime, timedelta"
   ]
  },
  {
   "cell_type": "markdown",
   "metadata": {},
   "source": [
    "Load Training Data"
   ]
  },
  {
   "cell_type": "code",
   "execution_count": 10,
   "metadata": {},
   "outputs": [],
   "source": [
    "file_name = './Data/train_short.csv'\n",
    "f = open(file_name,'r',encoding='utf-8')\n",
    "reader = csv.reader(f)\n",
    "data_ub = list(reader)"
   ]
  },
  {
   "cell_type": "markdown",
   "metadata": {},
   "source": [
    "Extract features:\n",
    "   * installation_id: an integer (converted from hex)\n",
    "   * event_id: an integer (converted from hex)\n",
    "   * event_year\n",
    "   * event_month\n",
    "   * event_day_of_month\n",
    "   * event_day_of_week\n",
    "   * event_hour\n",
    "   * event_minute\n",
    "   * event_day_section\n",
    "   * event_count\n",
    "   * event_code\n",
    "   * game_time\n",
    "   * game_title_ind\n",
    "   * game_type_ind\n",
    "   * world"
   ]
  },
  {
   "cell_type": "code",
   "execution_count": 24,
   "metadata": {},
   "outputs": [],
   "source": [
    "TITLES_MAPPING = {}\n",
    "title_ind = 1\n",
    "\n",
    "TYPES_MAPPING = {}\n",
    "type_ind = 1\n",
    "\n",
    "WORLDS_MAPPING = {}\n",
    "world_ind = 1"
   ]
  },
  {
   "cell_type": "code",
   "execution_count": 31,
   "metadata": {},
   "outputs": [],
   "source": [
    "no_data_points = len(data_ub)\n",
    "no_features = 16\n",
    "training_data = np.zeros([no_data_points,no_features])\n",
    "titles_list = []\n",
    "for itr in range(1,len(data_ub)):\n",
    "    row = data_ub[itr]\n",
    "    event_id = int(row[0],16)\n",
    "    installation_id = int(row[4],16)\n",
    "    game_session = int(row[1],16)\n",
    "    timestamp = datetime.strptime(row[2][0:19], '%Y-%m-%dT%H:%M:%S')\n",
    "    event_year = timestamp.year\n",
    "    event_month = timestamp.month\n",
    "    event_day_of_month = timestamp.day\n",
    "    event_day_of_week = timestamp.weekday()\n",
    "    event_hour = timestamp.hour\n",
    "    event_minute = timestamp.minute\n",
    "    if event_hour < 8:\n",
    "        event_day_section = 1\n",
    "    elif event_hour < 12:\n",
    "        event_day_section = 2\n",
    "    elif event_hour < 16:\n",
    "        event_day_section = 3\n",
    "    elif event_hour < 20:\n",
    "        event_day_section = 4\n",
    "    else:\n",
    "        event_day_section = 5\n",
    "        \n",
    "    event_count = int(row[5])\n",
    "    event_code = int(row[6])\n",
    "    \n",
    "    game_time = int(row[7])\n",
    "    \n",
    "    game_title = row[8]\n",
    "    if game_title not in TITLES_MAPPING:\n",
    "        title_ind += 1\n",
    "        TITLES_MAPPING[game_title] = title_ind\n",
    "    game_title_ind = TITLES_MAPPING[game_title]\n",
    "    \n",
    "    game_type = row[9]\n",
    "    if game_type not in TYPES_MAPPING:\n",
    "        type_ind += 1\n",
    "        TYPES_MAPPING[game_type] = type_ind\n",
    "    game_type_ind = TYPES_MAPPING[game_type]\n",
    "    \n",
    "    game_world = row[10]\n",
    "    if game_world not in WORLDS_MAPPING:\n",
    "        world_ind += 1\n",
    "        WORLDS_MAPPING[game_world] = world_ind\n",
    "    game_world_ind = WORLDS_MAPPING[game_world]\n",
    "    \n",
    "    data_point = [game_session,installation_id,event_id,event_year,event_month,\n",
    "                  event_day_of_month,event_day_of_week,event_hour,\n",
    "                 event_minute,event_day_section,event_count,event_code,\n",
    "                 game_time,game_title_ind,game_type_ind,game_world_ind]\n",
    "    \n",
    "    training_data[itr-1,:] = data_point"
   ]
  },
  {
   "cell_type": "markdown",
   "metadata": {},
   "source": [
    "**TODO**: Process the training data to compute number of corrects and incorrects"
   ]
  },
  {
   "cell_type": "markdown",
   "metadata": {},
   "source": [
    "**TODO**: Do a sanity-check to see if the processed file matches the results in train_label file"
   ]
  },
  {
   "cell_type": "markdown",
   "metadata": {},
   "source": [
    "Create training labels"
   ]
  },
  {
   "cell_type": "code",
   "execution_count": 33,
   "metadata": {},
   "outputs": [],
   "source": [
    "file_name = './Data/train_labels_short.csv'\n",
    "f = open(file_name,'r',encoding='utf-8')\n",
    "reader = csv.reader(f)\n",
    "data_ub = list(reader)\n",
    "\n",
    "training_labels = np.zeros([no_data_points,6])\n",
    "titles_list = []\n",
    "for itr in range(1,len(data_ub)):\n",
    "    row = data_ub[itr]\n",
    "    installation_id = int(row[4],16)\n",
    "    game_session = int(row[1],16)\n",
    "    no_corrects = int(row[3])\n",
    "    no_incorrects = int(row[4])\n",
    "    accuracy = float(row[5])\n",
    "    accuracy_group = int(row[6])\n",
    "    \n",
    "    label_point = [installation_id,game_session,no_corrects,no_incorrects,accuracy,accuracy_group]\n",
    "    training_labels[itr-1,:] = label_point"
   ]
  },
  {
   "cell_type": "markdown",
   "metadata": {},
   "source": [
    "**TODO**: Analyze feature correlations and importance"
   ]
  },
  {
   "cell_type": "code",
   "execution_count": null,
   "metadata": {},
   "outputs": [],
   "source": []
  }
 ],
 "metadata": {
  "kernelspec": {
   "display_name": "Python 3",
   "language": "python",
   "name": "python3"
  },
  "language_info": {
   "codemirror_mode": {
    "name": "ipython",
    "version": 3
   },
   "file_extension": ".py",
   "mimetype": "text/x-python",
   "name": "python",
   "nbconvert_exporter": "python",
   "pygments_lexer": "ipython3",
   "version": "3.6.9"
  }
 },
 "nbformat": 4,
 "nbformat_minor": 2
}
